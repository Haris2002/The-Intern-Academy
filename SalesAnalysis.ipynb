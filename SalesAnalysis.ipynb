{
  "nbformat": 4,
  "nbformat_minor": 0,
  "metadata": {
    "colab": {
      "name": "SalesAnalysis.ipynb",
      "provenance": [],
      "collapsed_sections": [
        "cNv-dWpOfQlN",
        "_eVseI--fapf",
        "VvGtHynZ17pn"
      ]
    },
    "kernelspec": {
      "name": "python3",
      "display_name": "Python 3"
    },
    "language_info": {
      "name": "python"
    }
  },
  "cells": [
    {
      "cell_type": "markdown",
      "metadata": {
        "id": "cNv-dWpOfQlN"
      },
      "source": [
        "## Required Libraries"
      ]
    },
    {
      "cell_type": "code",
      "metadata": {
        "id": "TJloojZJfFru"
      },
      "source": [
        "import numpy as np\n",
        "import pandas as pd\n",
        "import matplotlib.pyplot as plt\n",
        "import seaborn as sns"
      ],
      "execution_count": null,
      "outputs": []
    },
    {
      "cell_type": "markdown",
      "metadata": {
        "id": "_eVseI--fapf"
      },
      "source": [
        "## Dataset"
      ]
    },
    {
      "cell_type": "code",
      "metadata": {
        "colab": {
          "base_uri": "https://localhost:8080/",
          "height": 513
        },
        "id": "oEg9CwEefxU9",
        "outputId": "40ca85db-ecfe-40a7-d26a-704773d3626c"
      },
      "source": [
        "df = pd.read_csv('/content/drive/MyDrive/Intern Academy Internship/SALESDATA.csv')\n",
        "df.head()"
      ],
      "execution_count": null,
      "outputs": [
        {
          "output_type": "execute_result",
          "data": {
            "text/html": [
              "<div>\n",
              "<style scoped>\n",
              "    .dataframe tbody tr th:only-of-type {\n",
              "        vertical-align: middle;\n",
              "    }\n",
              "\n",
              "    .dataframe tbody tr th {\n",
              "        vertical-align: top;\n",
              "    }\n",
              "\n",
              "    .dataframe thead th {\n",
              "        text-align: right;\n",
              "    }\n",
              "</style>\n",
              "<table border=\"1\" class=\"dataframe\">\n",
              "  <thead>\n",
              "    <tr style=\"text-align: right;\">\n",
              "      <th></th>\n",
              "      <th>CustKey</th>\n",
              "      <th>DateKey</th>\n",
              "      <th>Discount Amount</th>\n",
              "      <th>Invoice Date</th>\n",
              "      <th>Invoice Number</th>\n",
              "      <th>Item Class</th>\n",
              "      <th>Item Number</th>\n",
              "      <th>Item</th>\n",
              "      <th>Line Number</th>\n",
              "      <th>List Price</th>\n",
              "      <th>Order Number</th>\n",
              "      <th>Promised Delivery Date</th>\n",
              "      <th>Sales Amount</th>\n",
              "      <th>Sales Amount Based on List Price</th>\n",
              "      <th>Sales Cost Amount</th>\n",
              "      <th>Sales Margin Amount</th>\n",
              "      <th>Sales Price</th>\n",
              "      <th>Sales Quantity</th>\n",
              "      <th>Sales Rep</th>\n",
              "      <th>U/M</th>\n",
              "    </tr>\n",
              "  </thead>\n",
              "  <tbody>\n",
              "    <tr>\n",
              "      <th>0</th>\n",
              "      <td>10000481</td>\n",
              "      <td>30/04/2017</td>\n",
              "      <td>-237.91</td>\n",
              "      <td>2017/04/30</td>\n",
              "      <td>100012</td>\n",
              "      <td>NaN</td>\n",
              "      <td>NaN</td>\n",
              "      <td>Urban Large Eggs</td>\n",
              "      <td>2000</td>\n",
              "      <td>0.00</td>\n",
              "      <td>200015</td>\n",
              "      <td>30/04/2017</td>\n",
              "      <td>237.91</td>\n",
              "      <td>0.00</td>\n",
              "      <td>0.0</td>\n",
              "      <td>237.91</td>\n",
              "      <td>237.910000</td>\n",
              "      <td>1</td>\n",
              "      <td>184</td>\n",
              "      <td>EA</td>\n",
              "    </tr>\n",
              "    <tr>\n",
              "      <th>1</th>\n",
              "      <td>10002220</td>\n",
              "      <td>14/07/2017</td>\n",
              "      <td>368.79</td>\n",
              "      <td>2017/07/14</td>\n",
              "      <td>100233</td>\n",
              "      <td>P01</td>\n",
              "      <td>20910</td>\n",
              "      <td>Moms Sliced Turkey</td>\n",
              "      <td>1000</td>\n",
              "      <td>824.96</td>\n",
              "      <td>200245</td>\n",
              "      <td>14/07/2017</td>\n",
              "      <td>456.17</td>\n",
              "      <td>824.96</td>\n",
              "      <td>0.0</td>\n",
              "      <td>456.17</td>\n",
              "      <td>456.170000</td>\n",
              "      <td>1</td>\n",
              "      <td>127</td>\n",
              "      <td>EA</td>\n",
              "    </tr>\n",
              "    <tr>\n",
              "      <th>2</th>\n",
              "      <td>10002220</td>\n",
              "      <td>17/10/2017</td>\n",
              "      <td>109.73</td>\n",
              "      <td>2017/10/17</td>\n",
              "      <td>116165</td>\n",
              "      <td>P01</td>\n",
              "      <td>38076</td>\n",
              "      <td>Cutting Edge Foot-Long Hot Dogs</td>\n",
              "      <td>1000</td>\n",
              "      <td>548.66</td>\n",
              "      <td>213157</td>\n",
              "      <td>16/10/2017</td>\n",
              "      <td>438.93</td>\n",
              "      <td>548.66</td>\n",
              "      <td>0.0</td>\n",
              "      <td>438.93</td>\n",
              "      <td>438.930000</td>\n",
              "      <td>1</td>\n",
              "      <td>127</td>\n",
              "      <td>EA</td>\n",
              "    </tr>\n",
              "    <tr>\n",
              "      <th>3</th>\n",
              "      <td>10002489</td>\n",
              "      <td>03/06/2017</td>\n",
              "      <td>-211.75</td>\n",
              "      <td>2017/06/03</td>\n",
              "      <td>100096</td>\n",
              "      <td>NaN</td>\n",
              "      <td>NaN</td>\n",
              "      <td>Kiwi Lox</td>\n",
              "      <td>1000</td>\n",
              "      <td>0.00</td>\n",
              "      <td>200107</td>\n",
              "      <td>03/06/2017</td>\n",
              "      <td>211.75</td>\n",
              "      <td>0.00</td>\n",
              "      <td>0.0</td>\n",
              "      <td>211.75</td>\n",
              "      <td>211.750000</td>\n",
              "      <td>1</td>\n",
              "      <td>160</td>\n",
              "      <td>EA</td>\n",
              "    </tr>\n",
              "    <tr>\n",
              "      <th>4</th>\n",
              "      <td>10004516</td>\n",
              "      <td>27/05/2017</td>\n",
              "      <td>96627.94</td>\n",
              "      <td>2017/05/27</td>\n",
              "      <td>103341</td>\n",
              "      <td>P01</td>\n",
              "      <td>60776</td>\n",
              "      <td>High Top Sweet Onion</td>\n",
              "      <td>1000</td>\n",
              "      <td>408.52</td>\n",
              "      <td>203785</td>\n",
              "      <td>28/05/2017</td>\n",
              "      <td>89248.66</td>\n",
              "      <td>185876.60</td>\n",
              "      <td>0.0</td>\n",
              "      <td>89248.66</td>\n",
              "      <td>196.150901</td>\n",
              "      <td>455</td>\n",
              "      <td>124</td>\n",
              "      <td>SE</td>\n",
              "    </tr>\n",
              "  </tbody>\n",
              "</table>\n",
              "</div>"
            ],
            "text/plain": [
              "    CustKey     DateKey  Discount Amount  ... Sales Quantity  Sales Rep U/M\n",
              "0  10000481  30/04/2017          -237.91  ...              1        184  EA\n",
              "1  10002220  14/07/2017           368.79  ...              1        127  EA\n",
              "2  10002220  17/10/2017           109.73  ...              1        127  EA\n",
              "3  10002489  03/06/2017          -211.75  ...              1        160  EA\n",
              "4  10004516  27/05/2017         96627.94  ...            455        124  SE\n",
              "\n",
              "[5 rows x 20 columns]"
            ]
          },
          "metadata": {},
          "execution_count": 3
        }
      ]
    },
    {
      "cell_type": "code",
      "metadata": {
        "id": "TUyXqSaJlcTc",
        "colab": {
          "base_uri": "https://localhost:8080/"
        },
        "outputId": "cae93242-4fc6-4c73-9f89-cf5b8a4978e8"
      },
      "source": [
        "df.columns"
      ],
      "execution_count": null,
      "outputs": [
        {
          "output_type": "execute_result",
          "data": {
            "text/plain": [
              "Index(['CustKey', 'DateKey', 'Discount Amount', 'Invoice Date',\n",
              "       'Invoice Number', 'Item Class', 'Item Number', 'Item', 'Line Number',\n",
              "       'List Price', 'Order Number', 'Promised Delivery Date', 'Sales Amount',\n",
              "       'Sales Amount Based on List Price', 'Sales Cost Amount',\n",
              "       'Sales Margin Amount', 'Sales Price', 'Sales Quantity', 'Sales Rep',\n",
              "       'U/M'],\n",
              "      dtype='object')"
            ]
          },
          "metadata": {},
          "execution_count": 4
        }
      ]
    },
    {
      "cell_type": "code",
      "metadata": {
        "id": "0jr5dzC0yPy2",
        "colab": {
          "base_uri": "https://localhost:8080/"
        },
        "outputId": "a5528b7a-664e-45f7-f9f4-5b6119c9e7b3"
      },
      "source": [
        "df.shape"
      ],
      "execution_count": null,
      "outputs": [
        {
          "output_type": "execute_result",
          "data": {
            "text/plain": [
              "(65282, 20)"
            ]
          },
          "metadata": {},
          "execution_count": 5
        }
      ]
    },
    {
      "cell_type": "code",
      "metadata": {
        "id": "iJzABdT_1d-u",
        "colab": {
          "base_uri": "https://localhost:8080/"
        },
        "outputId": "7be0197a-8108-48dc-a7da-c6a650da6479"
      },
      "source": [
        "df.nunique()"
      ],
      "execution_count": null,
      "outputs": [
        {
          "output_type": "execute_result",
          "data": {
            "text/plain": [
              "CustKey                               615\n",
              "DateKey                               559\n",
              "Discount Amount                     17820\n",
              "Invoice Date                          559\n",
              "Invoice Number                      24681\n",
              "Item Class                              2\n",
              "Item Number                           983\n",
              "Item                                  657\n",
              "Line Number                           397\n",
              "List Price                           1062\n",
              "Order Number                        17798\n",
              "Promised Delivery Date                592\n",
              "Sales Amount                        17896\n",
              "Sales Amount Based on List Price     4060\n",
              "Sales Cost Amount                    5513\n",
              "Sales Margin Amount                 21296\n",
              "Sales Price                         14789\n",
              "Sales Quantity                        281\n",
              "Sales Rep                              64\n",
              "U/M                                     3\n",
              "dtype: int64"
            ]
          },
          "metadata": {},
          "execution_count": 6
        }
      ]
    },
    {
      "cell_type": "code",
      "metadata": {
        "id": "ZlNoSreO129U",
        "colab": {
          "base_uri": "https://localhost:8080/"
        },
        "outputId": "4b78bfb0-e11f-4aa6-bade-8a85f877d533"
      },
      "source": [
        "df.info()"
      ],
      "execution_count": null,
      "outputs": [
        {
          "output_type": "stream",
          "name": "stdout",
          "text": [
            "<class 'pandas.core.frame.DataFrame'>\n",
            "RangeIndex: 65282 entries, 0 to 65281\n",
            "Data columns (total 20 columns):\n",
            " #   Column                            Non-Null Count  Dtype  \n",
            "---  ------                            --------------  -----  \n",
            " 0   CustKey                           65282 non-null  int64  \n",
            " 1   DateKey                           65282 non-null  object \n",
            " 2   Discount Amount                   65280 non-null  float64\n",
            " 3   Invoice Date                      65282 non-null  object \n",
            " 4   Invoice Number                    65282 non-null  int64  \n",
            " 5   Item Class                        56993 non-null  object \n",
            " 6   Item Number                       65241 non-null  object \n",
            " 7   Item                              65282 non-null  object \n",
            " 8   Line Number                       65282 non-null  int64  \n",
            " 9   List Price                        65282 non-null  float64\n",
            " 10  Order Number                      65282 non-null  int64  \n",
            " 11  Promised Delivery Date            65282 non-null  object \n",
            " 12  Sales Amount                      65282 non-null  float64\n",
            " 13  Sales Amount Based on List Price  65282 non-null  float64\n",
            " 14  Sales Cost Amount                 65282 non-null  float64\n",
            " 15  Sales Margin Amount               65282 non-null  float64\n",
            " 16  Sales Price                       65281 non-null  float64\n",
            " 17  Sales Quantity                    65282 non-null  int64  \n",
            " 18  Sales Rep                         65282 non-null  int64  \n",
            " 19  U/M                               65282 non-null  object \n",
            "dtypes: float64(7), int64(6), object(7)\n",
            "memory usage: 10.0+ MB\n"
          ]
        }
      ]
    },
    {
      "cell_type": "code",
      "metadata": {
        "id": "fJUsCbyIZ0AH",
        "colab": {
          "base_uri": "https://localhost:8080/",
          "height": 368
        },
        "outputId": "f7df2b50-6c83-4a4f-e7da-a7bbc6bcd281"
      },
      "source": [
        "df.describe()"
      ],
      "execution_count": null,
      "outputs": [
        {
          "output_type": "execute_result",
          "data": {
            "text/html": [
              "<div>\n",
              "<style scoped>\n",
              "    .dataframe tbody tr th:only-of-type {\n",
              "        vertical-align: middle;\n",
              "    }\n",
              "\n",
              "    .dataframe tbody tr th {\n",
              "        vertical-align: top;\n",
              "    }\n",
              "\n",
              "    .dataframe thead th {\n",
              "        text-align: right;\n",
              "    }\n",
              "</style>\n",
              "<table border=\"1\" class=\"dataframe\">\n",
              "  <thead>\n",
              "    <tr style=\"text-align: right;\">\n",
              "      <th></th>\n",
              "      <th>CustKey</th>\n",
              "      <th>Discount Amount</th>\n",
              "      <th>Invoice Number</th>\n",
              "      <th>Line Number</th>\n",
              "      <th>List Price</th>\n",
              "      <th>Order Number</th>\n",
              "      <th>Sales Amount</th>\n",
              "      <th>Sales Amount Based on List Price</th>\n",
              "      <th>Sales Cost Amount</th>\n",
              "      <th>Sales Margin Amount</th>\n",
              "      <th>Sales Price</th>\n",
              "      <th>Sales Quantity</th>\n",
              "      <th>Sales Rep</th>\n",
              "    </tr>\n",
              "  </thead>\n",
              "  <tbody>\n",
              "    <tr>\n",
              "      <th>count</th>\n",
              "      <td>6.528200e+04</td>\n",
              "      <td>65280.000000</td>\n",
              "      <td>65282.000000</td>\n",
              "      <td>65282.000000</td>\n",
              "      <td>65282.000000</td>\n",
              "      <td>65282.000000</td>\n",
              "      <td>65282.000000</td>\n",
              "      <td>65282.000000</td>\n",
              "      <td>65282.000000</td>\n",
              "      <td>65282.000000</td>\n",
              "      <td>65281.000000</td>\n",
              "      <td>65282.000000</td>\n",
              "      <td>65282.000000</td>\n",
              "    </tr>\n",
              "    <tr>\n",
              "      <th>mean</th>\n",
              "      <td>1.001770e+07</td>\n",
              "      <td>1855.574835</td>\n",
              "      <td>216223.662020</td>\n",
              "      <td>23713.849790</td>\n",
              "      <td>514.693380</td>\n",
              "      <td>180583.064352</td>\n",
              "      <td>2852.038373</td>\n",
              "      <td>4707.473613</td>\n",
              "      <td>1660.979228</td>\n",
              "      <td>1191.059145</td>\n",
              "      <td>283.615913</td>\n",
              "      <td>45.084311</td>\n",
              "      <td>137.422398</td>\n",
              "    </tr>\n",
              "    <tr>\n",
              "      <th>std</th>\n",
              "      <td>7.176148e+03</td>\n",
              "      <td>9037.140888</td>\n",
              "      <td>94992.281866</td>\n",
              "      <td>32664.024053</td>\n",
              "      <td>449.189182</td>\n",
              "      <td>67593.871116</td>\n",
              "      <td>15164.342107</td>\n",
              "      <td>20696.443785</td>\n",
              "      <td>9556.485250</td>\n",
              "      <td>5860.787502</td>\n",
              "      <td>252.876719</td>\n",
              "      <td>429.661793</td>\n",
              "      <td>26.643936</td>\n",
              "    </tr>\n",
              "    <tr>\n",
              "      <th>min</th>\n",
              "      <td>1.000045e+07</td>\n",
              "      <td>-255820.800000</td>\n",
              "      <td>100012.000000</td>\n",
              "      <td>1000.000000</td>\n",
              "      <td>0.000000</td>\n",
              "      <td>100838.000000</td>\n",
              "      <td>200.010000</td>\n",
              "      <td>0.000000</td>\n",
              "      <td>0.000000</td>\n",
              "      <td>-3932.930000</td>\n",
              "      <td>-5000.000000</td>\n",
              "      <td>-1.000000</td>\n",
              "      <td>103.000000</td>\n",
              "    </tr>\n",
              "    <tr>\n",
              "      <th>25%</th>\n",
              "      <td>1.001272e+07</td>\n",
              "      <td>246.037500</td>\n",
              "      <td>117931.000000</td>\n",
              "      <td>3000.000000</td>\n",
              "      <td>181.560000</td>\n",
              "      <td>115321.000000</td>\n",
              "      <td>308.387500</td>\n",
              "      <td>561.040000</td>\n",
              "      <td>167.790000</td>\n",
              "      <td>129.950000</td>\n",
              "      <td>100.070000</td>\n",
              "      <td>2.000000</td>\n",
              "      <td>113.000000</td>\n",
              "    </tr>\n",
              "    <tr>\n",
              "      <th>50%</th>\n",
              "      <td>1.001966e+07</td>\n",
              "      <td>441.760000</td>\n",
              "      <td>222869.500000</td>\n",
              "      <td>12000.000000</td>\n",
              "      <td>325.190000</td>\n",
              "      <td>203702.000000</td>\n",
              "      <td>553.940000</td>\n",
              "      <td>998.160000</td>\n",
              "      <td>304.500000</td>\n",
              "      <td>246.490000</td>\n",
              "      <td>183.757500</td>\n",
              "      <td>3.000000</td>\n",
              "      <td>134.000000</td>\n",
              "    </tr>\n",
              "    <tr>\n",
              "      <th>75%</th>\n",
              "      <td>1.002351e+07</td>\n",
              "      <td>999.760000</td>\n",
              "      <td>314318.750000</td>\n",
              "      <td>32000.000000</td>\n",
              "      <td>803.860000</td>\n",
              "      <td>218576.000000</td>\n",
              "      <td>1280.042500</td>\n",
              "      <td>2315.040000</td>\n",
              "      <td>687.320000</td>\n",
              "      <td>579.530000</td>\n",
              "      <td>448.220000</td>\n",
              "      <td>8.000000</td>\n",
              "      <td>160.000000</td>\n",
              "    </tr>\n",
              "    <tr>\n",
              "      <th>max</th>\n",
              "      <td>1.002758e+07</td>\n",
              "      <td>343532.660000</td>\n",
              "      <td>332842.000000</td>\n",
              "      <td>344000.000000</td>\n",
              "      <td>2760.700000</td>\n",
              "      <td>321532.000000</td>\n",
              "      <td>555376.000000</td>\n",
              "      <td>632610.160000</td>\n",
              "      <td>366576.000000</td>\n",
              "      <td>188800.000000</td>\n",
              "      <td>6035.000000</td>\n",
              "      <td>16000.000000</td>\n",
              "      <td>185.000000</td>\n",
              "    </tr>\n",
              "  </tbody>\n",
              "</table>\n",
              "</div>"
            ],
            "text/plain": [
              "            CustKey  Discount Amount  ...  Sales Quantity     Sales Rep\n",
              "count  6.528200e+04     65280.000000  ...    65282.000000  65282.000000\n",
              "mean   1.001770e+07      1855.574835  ...       45.084311    137.422398\n",
              "std    7.176148e+03      9037.140888  ...      429.661793     26.643936\n",
              "min    1.000045e+07   -255820.800000  ...       -1.000000    103.000000\n",
              "25%    1.001272e+07       246.037500  ...        2.000000    113.000000\n",
              "50%    1.001966e+07       441.760000  ...        3.000000    134.000000\n",
              "75%    1.002351e+07       999.760000  ...        8.000000    160.000000\n",
              "max    1.002758e+07    343532.660000  ...    16000.000000    185.000000\n",
              "\n",
              "[8 rows x 13 columns]"
            ]
          },
          "metadata": {},
          "execution_count": 8
        }
      ]
    },
    {
      "cell_type": "markdown",
      "metadata": {
        "id": "VvGtHynZ17pn"
      },
      "source": [
        "## Null Values"
      ]
    },
    {
      "cell_type": "code",
      "metadata": {
        "id": "Uzg7f8_g6TR2",
        "colab": {
          "base_uri": "https://localhost:8080/"
        },
        "outputId": "f30e188b-1340-4c22-c87c-967c87ffbf2b"
      },
      "source": [
        "df.isna().sum()"
      ],
      "execution_count": null,
      "outputs": [
        {
          "output_type": "execute_result",
          "data": {
            "text/plain": [
              "CustKey                                0\n",
              "DateKey                                0\n",
              "Discount Amount                        2\n",
              "Invoice Date                           0\n",
              "Invoice Number                         0\n",
              "Item Class                          8289\n",
              "Item Number                           41\n",
              "Item                                   0\n",
              "Line Number                            0\n",
              "List Price                             0\n",
              "Order Number                           0\n",
              "Promised Delivery Date                 0\n",
              "Sales Amount                           0\n",
              "Sales Amount Based on List Price       0\n",
              "Sales Cost Amount                      0\n",
              "Sales Margin Amount                    0\n",
              "Sales Price                            1\n",
              "Sales Quantity                         0\n",
              "Sales Rep                              0\n",
              "U/M                                    0\n",
              "dtype: int64"
            ]
          },
          "metadata": {},
          "execution_count": 9
        }
      ]
    },
    {
      "cell_type": "code",
      "metadata": {
        "id": "5B3GT6Bk1gmN",
        "colab": {
          "base_uri": "https://localhost:8080/",
          "height": 531
        },
        "outputId": "281a4c1e-6849-4254-d023-f9350c3228fb"
      },
      "source": [
        "plt.figure(figsize=(8,6))\n",
        "sns.heatmap(df.isna(),yticklabels=0,cbar=False)\n",
        "plt.show()"
      ],
      "execution_count": null,
      "outputs": [
        {
          "output_type": "display_data",
          "data": {
            "image/png": "[encoded data removed]",
            "text/plain": [
              "<Figure size 576x432 with 1 Axes>"
            ]
          },
          "metadata": {
            "needs_background": "light"
          }
        }
      ]
    },
    {
      "cell_type": "markdown",
      "metadata": {
        "id": "n5RLQjAO_LOa"
      },
      "source": [
        "## Duplicate Values"
      ]
    },
    {
      "cell_type": "code",
      "metadata": {
        "id": "Sb8rknWy_Npq",
        "colab": {
          "base_uri": "https://localhost:8080/"
        },
        "outputId": "71833111-7665-491a-a132-3828b806cd08"
      },
      "source": [
        "df.duplicated().sum()"
      ],
      "execution_count": null,
      "outputs": [
        {
          "output_type": "execute_result",
          "data": {
            "text/plain": [
              "0"
            ]
          },
          "metadata": {},
          "execution_count": 11
        }
      ]
    },
    {
      "cell_type": "markdown",
      "metadata": {
        "id": "XlGqZVh6q_Lm"
      },
      "source": [
        "## Types of Analysis we could do\n",
        "\n",
        "\n",
        "1. Basic univariate analysis\n",
        "2. Sales vs date plot\n",
        "3. Month wise sales\n",
        "4. Orders vs time\n",
        "5. Top selling items by various factors\n",
        "6. Repeatedly purchased items\n",
        "7. Outliers detection\n",
        "8. How discounts affects sales and profit\n",
        "9. Most regular customers and Most profitable customers\n"
      ]
    },
    {
      "cell_type": "markdown",
      "metadata": {
        "id": "qaWEsx_jxNkD"
      },
      "source": [
        "## Items that are repeatedly brought"
      ]
    },
    {
      "cell_type": "code",
      "metadata": {
        "id": "nUks_329yfzp"
      },
      "source": [
        "# calculate item score based on repetition\n",
        "item = []\n",
        "score = []\n",
        "i = 0\n",
        "j=0\n",
        "for row in df.groupby(['Item','CustKey'])['CustKey'].count().index:\n",
        "    if row[0] not in item:\n",
        "        if j>1:\n",
        "            score[-1] /= j\n",
        "        j = 1\n",
        "        item.append(row[0])\n",
        "        score.append(df.groupby(['Item','CustKey'])['CustKey'].count()[i])\n",
        "    else:\n",
        "        j += 1\n",
        "        score[-1] += df.groupby(['Item','CustKey'])['CustKey'].count()[i]\n",
        "    i+=1"
      ],
      "execution_count": null,
      "outputs": []
    },
    {
      "cell_type": "code",
      "metadata": {
        "id": "rU2-5UcIAZYm"
      },
      "source": [
        "# convert to dataframe\n",
        "df1 = pd.DataFrame({\n",
        "    'items':item,\n",
        "    'score':score\n",
        "}).sort_values(by='score',ascending=False)"
      ],
      "execution_count": null,
      "outputs": []
    },
    {
      "cell_type": "code",
      "metadata": {
        "colab": {
          "base_uri": "https://localhost:8080/",
          "height": 626
        },
        "id": "0Ir53w69ER05",
        "outputId": "bc029ee5-4d06-452a-d148-a67b901578dc"
      },
      "source": [
        "# plot\n",
        "df1.set_index('items',inplace=True)\n",
        "plt.style.use('fivethirtyeight')\n",
        "df1.head(15).plot(kind='bar',figsize=(10,6),style='fivethirtyeight')\n",
        "plt.show()"
      ],
      "execution_count": null,
      "outputs": [
        {
          "output_type": "display_data",
          "data": {
            "image/png": "[encoded data removed]",
            "text/plain": [
              "<Figure size 720x432 with 1 Axes>"
            ]
          },
          "metadata": {}
        }
      ]
    },
    {
      "cell_type": "code",
      "metadata": {
        "id": "h5VNs2ZYFzM9"
      },
      "source": [
        "# export to csv\n",
        "df1.to_csv('repeatedly_brought.csv')"
      ],
      "execution_count": null,
      "outputs": []
    }
  ]
}